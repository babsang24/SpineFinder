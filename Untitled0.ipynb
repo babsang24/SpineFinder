{
  "nbformat": 4,
  "nbformat_minor": 0,
  "metadata": {
    "colab": {
      "name": "Untitled0.ipynb",
      "provenance": [],
      "collapsed_sections": [],
      "toc_visible": true,
      "mount_file_id": "https://github.com/babsang24/SpineFinder/blob/master/Untitled0.ipynb",
      "authorship_tag": "ABX9TyOpQUOWkcVkWtiMy1EO7/Vx",
      "include_colab_link": true
    },
    "kernelspec": {
      "name": "python3",
      "display_name": "Python 3"
    }
  },
  "cells": [
    {
      "cell_type": "markdown",
      "metadata": {
        "id": "view-in-github",
        "colab_type": "text"
      },
      "source": [
        "<a href=\"https://colab.research.google.com/github/babsang24/SpineFinder/blob/master/Untitled0.ipynb\" target=\"_parent\"><img src=\"https://colab.research.google.com/assets/colab-badge.svg\" alt=\"Open In Colab\"/></a>"
      ]
    },
    {
      "cell_type": "code",
      "metadata": {
        "id": "M8kYblfSqW43",
        "colab_type": "code",
        "colab": {}
      },
      "source": [
        "# 파일 업로드\n",
        "from google.colab import files\n",
        "uploaded = files.upload()"
      ],
      "execution_count": 0,
      "outputs": []
    },
    {
      "cell_type": "code",
      "metadata": {
        "id": "keDxNR6WvDCt",
        "colab_type": "code",
        "colab": {}
      },
      "source": [
        "# 파일 다운로드\n",
        "import sys \n",
        "sys.version_info "
      ],
      "execution_count": 0,
      "outputs": []
    },
    {
      "cell_type": "markdown",
      "metadata": {
        "id": "X_aHJm_RxC2t",
        "colab_type": "text"
      },
      "source": [
        ""
      ]
    },
    {
      "cell_type": "code",
      "metadata": {
        "id": "hZI_29Mdtohk",
        "colab_type": "code",
        "outputId": "eb271851-2a65-4fe7-f0f4-f92b0bbab2cb",
        "colab": {
          "base_uri": "https://localhost:8080/",
          "height": 136
        }
      },
      "source": [
        "import numpy as np\n",
        "\n",
        "dataset = np.loadtxt(\"/content/drive/My Drive/pima-indians-diabetes.csv\", delimiter=\",\")\n",
        "\n",
        "print(dataset)"
      ],
      "execution_count": 0,
      "outputs": [
        {
          "output_type": "stream",
          "text": [
            "[[  6. 148.  72.   1.]\n",
            " [  1.  85.  66.   0.]\n",
            " [  8. 183.  64.   1.]\n",
            " ...\n",
            " [  1.  89.  24.   0.]\n",
            " [  1. 173.  74.   1.]\n",
            " [  1. 109.  38.   0.]]\n"
          ],
          "name": "stdout"
        }
      ]
    },
    {
      "cell_type": "code",
      "metadata": {
        "id": "Fu0OsGv3ugTj",
        "colab_type": "code",
        "colab": {}
      },
      "source": [
        "!ls -al \"/content/drive/My Drive/pima-indians-diabetes.csv\""
      ],
      "execution_count": 0,
      "outputs": []
    },
    {
      "cell_type": "code",
      "metadata": {
        "id": "t5sVUlY0w8VU",
        "colab_type": "code",
        "outputId": "8fd9e1e8-c11d-4bb0-f1dd-3ad5019bc4b3",
        "colab": {
          "base_uri": "https://localhost:8080/",
          "height": 34
        }
      },
      "source": [
        "!python3 --version"
      ],
      "execution_count": 0,
      "outputs": [
        {
          "output_type": "stream",
          "text": [
            "Python 3.6.9\n"
          ],
          "name": "stdout"
        }
      ]
    },
    {
      "cell_type": "markdown",
      "metadata": {
        "id": "dUb7qD6P1iFo",
        "colab_type": "text"
      },
      "source": [
        "conda create -n spine-env\n",
        "\n",
        "source activate spine-env\n",
        "\n",
        "conda install tensorflow-gpu==1.12.0\n",
        "\n",
        "conda install keras\n",
        "\n",
        "conda install matplotlib\n",
        "\n",
        "conda install -c https://conda.anaconda.org/simpleitk SimpleITK\n",
        "\n",
        "conda install pip\n",
        "\n",
        "pip install keras-metrics\n",
        "\n",
        "pip install elasticdeform\n"
      ]
    },
    {
      "cell_type": "markdown",
      "metadata": {
        "id": "XDKISkkw1WYB",
        "colab_type": "text"
      },
      "source": [
        "버전\tPython 버전\t컴파일러\t빌드 도구\tcuDNN\tCUDA\n",
        "\n",
        "tensorflow_gpu-1.12.0\t2.7, 3.3-3.6\tGCC 4.8\tBazel 0.15.0\t7\t9"
      ]
    },
    {
      "cell_type": "code",
      "metadata": {
        "id": "XDXOBKlCxjDP",
        "colab_type": "code",
        "colab": {}
      },
      "source": [
        "!unzip \"/content/drive/My Drive/spine-1.zip\" -d /content/SpineFinder/training_dataset"
      ],
      "execution_count": 0,
      "outputs": []
    },
    {
      "cell_type": "code",
      "metadata": {
        "id": "wu5lTaWJsO9q",
        "colab_type": "code",
        "colab": {}
      },
      "source": [
        "!unzip \"/content/drive/My Drive/spine-2.zip\" -d /content/SpineFinder/training_dataset"
      ],
      "execution_count": 0,
      "outputs": []
    },
    {
      "cell_type": "code",
      "metadata": {
        "id": "Jr_Om81RxlNU",
        "colab_type": "code",
        "colab": {}
      },
      "source": [
        "!unzip \"/content/drive/My Drive/spine-3.zip\" -d /content/SpineFinder/training_dataset"
      ],
      "execution_count": 0,
      "outputs": []
    },
    {
      "cell_type": "code",
      "metadata": {
        "id": "uaZY8I_Kxmo5",
        "colab_type": "code",
        "colab": {}
      },
      "source": [
        "!unzip \"/content/drive/My Drive/spine-4.zip\" -d /content/SpineFinder/training_dataset"
      ],
      "execution_count": 0,
      "outputs": []
    },
    {
      "cell_type": "code",
      "metadata": {
        "id": "y-Ii2kN9xnst",
        "colab_type": "code",
        "colab": {}
      },
      "source": [
        "!unzip \"/content/drive/My Drive/spine-5.zip\" -d /content/SpineFinder/training_dataset"
      ],
      "execution_count": 0,
      "outputs": []
    },
    {
      "cell_type": "code",
      "metadata": {
        "id": "Jo9QIoF3yT9G",
        "colab_type": "code",
        "colab": {}
      },
      "source": [
        "!unzip \"/content/drive/My Drive/spine-test-data.zip\" -d /content/SpineFinder/testing_dataset"
      ],
      "execution_count": 0,
      "outputs": []
    },
    {
      "cell_type": "code",
      "metadata": {
        "id": "dVWzoYydz_IZ",
        "colab_type": "code",
        "colab": {
          "base_uri": "https://localhost:8080/",
          "height": 1000
        },
        "outputId": "ee4e28ef-9aa1-44d3-9ce4-a5b02da38b71"
      },
      "source": [
        "!python /content/SpineFinder/generate_detection_samples.py '/content/SpineFinder/training_dataset' '/content/SpineFinder/samples/detection/training'"
      ],
      "execution_count": 28,
      "outputs": [
        {
          "output_type": "stream",
          "text": [
            "Generating 1210 detection samples of size 64 x 64 x 80 for 242 scans\n",
            "1 / 242\n",
            "2 / 242\n",
            "3 / 242\n",
            "4 / 242\n",
            "5 / 242\n",
            "6 / 242\n",
            "7 / 242\n",
            "8 / 242\n",
            "9 / 242\n",
            "10 / 242\n",
            "11 / 242\n",
            "12 / 242\n",
            "13 / 242\n",
            "14 / 242\n",
            "15 / 242\n",
            "16 / 242\n",
            "17 / 242\n",
            "18 / 242\n",
            "19 / 242\n",
            "20 / 242\n",
            "21 / 242\n",
            "22 / 242\n",
            "23 / 242\n",
            "24 / 242\n",
            "25 / 242\n",
            "26 / 242\n",
            "27 / 242\n",
            "28 / 242\n",
            "29 / 242\n",
            "30 / 242\n",
            "31 / 242\n",
            "32 / 242\n",
            "33 / 242\n",
            "34 / 242\n",
            "35 / 242\n",
            "36 / 242\n",
            "37 / 242\n",
            "38 / 242\n",
            "39 / 242\n",
            "40 / 242\n",
            "41 / 242\n",
            "42 / 242\n",
            "43 / 242\n",
            "44 / 242\n",
            "45 / 242\n",
            "46 / 242\n",
            "47 / 242\n",
            "48 / 242\n",
            "49 / 242\n",
            "50 / 242\n",
            "51 / 242\n",
            "52 / 242\n",
            "53 / 242\n",
            "54 / 242\n",
            "55 / 242\n",
            "56 / 242\n",
            "57 / 242\n",
            "58 / 242\n",
            "59 / 242\n",
            "60 / 242\n",
            "61 / 242\n",
            "62 / 242\n",
            "63 / 242\n",
            "64 / 242\n",
            "65 / 242\n",
            "66 / 242\n",
            "67 / 242\n",
            "68 / 242\n",
            "69 / 242\n",
            "70 / 242\n",
            "71 / 242\n",
            "72 / 242\n",
            "73 / 242\n",
            "74 / 242\n",
            "75 / 242\n",
            "76 / 242\n",
            "77 / 242\n",
            "78 / 242\n",
            "79 / 242\n",
            "80 / 242\n",
            "81 / 242\n",
            "82 / 242\n",
            "83 / 242\n",
            "84 / 242\n",
            "85 / 242\n",
            "86 / 242\n",
            "87 / 242\n",
            "88 / 242\n",
            "89 / 242\n",
            "90 / 242\n",
            "91 / 242\n",
            "92 / 242\n",
            "93 / 242\n",
            "94 / 242\n",
            "95 / 242\n",
            "96 / 242\n",
            "97 / 242\n",
            "98 / 242\n",
            "99 / 242\n",
            "100 / 242\n",
            "101 / 242\n",
            "102 / 242\n",
            "103 / 242\n",
            "104 / 242\n",
            "105 / 242\n",
            "106 / 242\n",
            "107 / 242\n",
            "108 / 242\n",
            "109 / 242\n",
            "110 / 242\n",
            "111 / 242\n",
            "112 / 242\n",
            "113 / 242\n",
            "114 / 242\n",
            "115 / 242\n",
            "116 / 242\n",
            "117 / 242\n",
            "118 / 242\n",
            "119 / 242\n",
            "120 / 242\n",
            "121 / 242\n",
            "122 / 242\n",
            "123 / 242\n",
            "124 / 242\n",
            "125 / 242\n",
            "126 / 242\n",
            "127 / 242\n",
            "128 / 242\n",
            "129 / 242\n",
            "130 / 242\n",
            "131 / 242\n",
            "132 / 242\n",
            "133 / 242\n",
            "134 / 242\n",
            "135 / 242\n",
            "136 / 242\n",
            "137 / 242\n",
            "138 / 242\n",
            "139 / 242\n",
            "140 / 242\n",
            "141 / 242\n",
            "142 / 242\n",
            "143 / 242\n",
            "144 / 242\n",
            "145 / 242\n",
            "146 / 242\n",
            "147 / 242\n",
            "148 / 242\n",
            "149 / 242\n",
            "150 / 242\n",
            "151 / 242\n",
            "152 / 242\n",
            "153 / 242\n",
            "154 / 242\n",
            "155 / 242\n",
            "156 / 242\n",
            "157 / 242\n",
            "158 / 242\n",
            "159 / 242\n",
            "160 / 242\n",
            "161 / 242\n",
            "162 / 242\n",
            "163 / 242\n",
            "164 / 242\n",
            "165 / 242\n",
            "166 / 242\n",
            "167 / 242\n",
            "168 / 242\n",
            "169 / 242\n",
            "170 / 242\n",
            "171 / 242\n",
            "172 / 242\n",
            "173 / 242\n",
            "174 / 242\n",
            "175 / 242\n",
            "176 / 242\n",
            "177 / 242\n",
            "178 / 242\n",
            "179 / 242\n",
            "180 / 242\n",
            "181 / 242\n",
            "182 / 242\n",
            "183 / 242\n",
            "184 / 242\n",
            "185 / 242\n",
            "186 / 242\n",
            "187 / 242\n",
            "188 / 242\n",
            "189 / 242\n",
            "190 / 242\n",
            "191 / 242\n",
            "192 / 242\n",
            "193 / 242\n",
            "194 / 242\n",
            "195 / 242\n",
            "196 / 242\n",
            "197 / 242\n",
            "198 / 242\n",
            "199 / 242\n",
            "200 / 242\n",
            "201 / 242\n",
            "202 / 242\n",
            "203 / 242\n",
            "204 / 242\n",
            "205 / 242\n",
            "206 / 242\n",
            "207 / 242\n",
            "208 / 242\n",
            "209 / 242\n",
            "210 / 242\n",
            "211 / 242\n",
            "212 / 242\n",
            "213 / 242\n",
            "214 / 242\n",
            "215 / 242\n",
            "216 / 242\n",
            "217 / 242\n",
            "218 / 242\n",
            "219 / 242\n",
            "220 / 242\n",
            "221 / 242\n",
            "222 / 242\n",
            "223 / 242\n",
            "224 / 242\n",
            "225 / 242\n",
            "226 / 242\n",
            "227 / 242\n",
            "228 / 242\n",
            "229 / 242\n",
            "230 / 242\n",
            "231 / 242\n",
            "232 / 242\n",
            "233 / 242\n",
            "234 / 242\n",
            "235 / 242\n",
            "236 / 242\n",
            "237 / 242\n",
            "238 / 242\n",
            "239 / 242\n",
            "240 / 242\n",
            "241 / 242\n",
            "242 / 242\n"
          ],
          "name": "stdout"
        }
      ]
    },
    {
      "cell_type": "code",
      "metadata": {
        "id": "lpOYxHkE0dSC",
        "colab_type": "code",
        "colab": {
          "base_uri": "https://localhost:8080/",
          "height": 1000
        },
        "outputId": "c8f1683d-3082-4196-a5e2-0aee3e0d9e1b"
      },
      "source": [
        "!python /content/SpineFinder/generate_detection_samples.py '/content/SpineFinder/testing_dataset' '/content/SpineFinder/samples/detection/testing'"
      ],
      "execution_count": 29,
      "outputs": [
        {
          "output_type": "stream",
          "text": [
            "Generating 300 detection samples of size 64 x 64 x 80 for 60 scans\n",
            "1 / 60\n",
            "2 / 60\n",
            "3 / 60\n",
            "4 / 60\n",
            "5 / 60\n",
            "6 / 60\n",
            "7 / 60\n",
            "8 / 60\n",
            "9 / 60\n",
            "10 / 60\n",
            "11 / 60\n",
            "12 / 60\n",
            "13 / 60\n",
            "14 / 60\n",
            "15 / 60\n",
            "16 / 60\n",
            "17 / 60\n",
            "18 / 60\n",
            "19 / 60\n",
            "20 / 60\n",
            "21 / 60\n",
            "22 / 60\n",
            "23 / 60\n",
            "24 / 60\n",
            "25 / 60\n",
            "26 / 60\n",
            "27 / 60\n",
            "28 / 60\n",
            "29 / 60\n",
            "30 / 60\n",
            "31 / 60\n",
            "32 / 60\n",
            "33 / 60\n",
            "34 / 60\n",
            "35 / 60\n",
            "36 / 60\n",
            "37 / 60\n",
            "38 / 60\n",
            "39 / 60\n",
            "40 / 60\n",
            "41 / 60\n",
            "42 / 60\n",
            "43 / 60\n",
            "44 / 60\n",
            "45 / 60\n",
            "46 / 60\n",
            "47 / 60\n",
            "48 / 60\n",
            "49 / 60\n",
            "50 / 60\n",
            "51 / 60\n",
            "52 / 60\n",
            "53 / 60\n",
            "54 / 60\n",
            "55 / 60\n",
            "56 / 60\n",
            "57 / 60\n",
            "58 / 60\n",
            "59 / 60\n",
            "60 / 60\n"
          ],
          "name": "stdout"
        }
      ]
    },
    {
      "cell_type": "code",
      "metadata": {
        "id": "huoejFms0kFe",
        "colab_type": "code",
        "colab": {
          "base_uri": "https://localhost:8080/",
          "height": 208
        },
        "outputId": "76f08dbc-bf22-4451-9fca-7ec4305b16f1"
      },
      "source": [
        "!python /content/SpineFinder/train_detection_model.py '/content/SpineFinder/samples/detection/training' '/content/SpineFinder/samples/detection/testing' '/content/SpineFinder/saved_models/detection.h5'"
      ],
      "execution_count": 30,
      "outputs": [
        {
          "output_type": "stream",
          "text": [
            "Using TensorFlow backend.\n",
            "2020-05-16 05:32:17.627131: I tensorflow/stream_executor/platform/default/dso_loader.cc:44] Successfully opened dynamic library libcudart.so.10.1\n",
            "Traceback (most recent call last):\n",
            "  File \"/content/SpineFinder/train_detection_model.py\", line 3, in <module>\n",
            "    from learning_functions.perform_learning import perform_learning\n",
            "  File \"/content/SpineFinder/learning_functions/perform_learning.py\", line 2, in <module>\n",
            "    from learning_functions.data_generator import DataGenerator\n",
            "  File \"/content/SpineFinder/learning_functions/data_generator.py\", line 4, in <module>\n",
            "    import keras\n",
            "  File \"/usr/local/lib/python3.6/dist-packages/keras/__init__.py\", line 3, in <module>\n",
            "^C\n"
          ],
          "name": "stdout"
        }
      ]
    }
  ]
}