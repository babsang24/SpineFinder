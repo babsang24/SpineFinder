{
  "nbformat": 4,
  "nbformat_minor": 0,
  "metadata": {
    "colab": {
      "name": "Untitled0.ipynb",
      "provenance": [],
      "collapsed_sections": [],
      "toc_visible": true,
      "authorship_tag": "ABX9TyMFH5KltOGOogVdXcdqARDu",
      "include_colab_link": true
    },
    "kernelspec": {
      "name": "python3",
      "display_name": "Python 3"
    }
  },
  "cells": [
    {
      "cell_type": "markdown",
      "metadata": {
        "id": "view-in-github",
        "colab_type": "text"
      },
      "source": [
        "<a href=\"https://colab.research.google.com/github/babsang24/SpineFinder/blob/master/Untitled0.ipynb\" target=\"_parent\"><img src=\"https://colab.research.google.com/assets/colab-badge.svg\" alt=\"Open In Colab\"/></a>"
      ]
    },
    {
      "cell_type": "code",
      "metadata": {
        "id": "M8kYblfSqW43",
        "colab_type": "code",
        "colab": {}
      },
      "source": [
        "# 파일 업로드\n",
        "from google.colab import files\n",
        "uploaded = files.upload()"
      ],
      "execution_count": 0,
      "outputs": []
    },
    {
      "cell_type": "code",
      "metadata": {
        "id": "keDxNR6WvDCt",
        "colab_type": "code",
        "colab": {}
      },
      "source": [
        "# 파일 다운로드\n",
        "import sys \n",
        "sys.version_info "
      ],
      "execution_count": 0,
      "outputs": []
    },
    {
      "cell_type": "markdown",
      "metadata": {
        "id": "X_aHJm_RxC2t",
        "colab_type": "text"
      },
      "source": [
        ""
      ]
    },
    {
      "cell_type": "code",
      "metadata": {
        "id": "hZI_29Mdtohk",
        "colab_type": "code",
        "outputId": "eb271851-2a65-4fe7-f0f4-f92b0bbab2cb",
        "colab": {
          "base_uri": "https://localhost:8080/",
          "height": 136
        }
      },
      "source": [
        "import numpy as np\n",
        "\n",
        "dataset = np.loadtxt(\"/content/drive/My Drive/pima-indians-diabetes.csv\", delimiter=\",\")\n",
        "\n",
        "print(dataset)"
      ],
      "execution_count": 0,
      "outputs": [
        {
          "output_type": "stream",
          "text": [
            "[[  6. 148.  72.   1.]\n",
            " [  1.  85.  66.   0.]\n",
            " [  8. 183.  64.   1.]\n",
            " ...\n",
            " [  1.  89.  24.   0.]\n",
            " [  1. 173.  74.   1.]\n",
            " [  1. 109.  38.   0.]]\n"
          ],
          "name": "stdout"
        }
      ]
    },
    {
      "cell_type": "code",
      "metadata": {
        "id": "t5sVUlY0w8VU",
        "colab_type": "code",
        "colab": {
          "base_uri": "https://localhost:8080/",
          "height": 34
        },
        "outputId": "8fd9e1e8-c11d-4bb0-f1dd-3ad5019bc4b3"
      },
      "source": [
        "!python3 --version"
      ],
      "execution_count": 1,
      "outputs": [
        {
          "output_type": "stream",
          "text": [
            "Python 3.6.9\n"
          ],
          "name": "stdout"
        }
      ]
    },
    {
      "cell_type": "markdown",
      "metadata": {
        "id": "dUb7qD6P1iFo",
        "colab_type": "text"
      },
      "source": [
        "conda create -n spine-env\n",
        "\n",
        "source activate spine-env\n",
        "\n",
        "conda install tensorflow-gpu==1.12.0\n",
        "\n",
        "conda install keras\n",
        "\n",
        "conda install matplotlib\n",
        "\n",
        "conda install -c https://conda.anaconda.org/simpleitk SimpleITK\n",
        "\n",
        "conda install pip\n",
        "\n",
        "pip install keras-metrics\n",
        "\n",
        "pip install elasticdeform\n"
      ]
    },
    {
      "cell_type": "markdown",
      "metadata": {
        "id": "XDKISkkw1WYB",
        "colab_type": "text"
      },
      "source": [
        "버전\tPython 버전\t컴파일러\t빌드 도구\tcuDNN\tCUDA\n",
        "\n",
        "tensorflow_gpu-1.12.0\t2.7, 3.3-3.6\tGCC 4.8\tBazel 0.15.0\t7\t9"
      ]
    },
    {
      "cell_type": "code",
      "metadata": {
        "id": "Fu0OsGv3ugTj",
        "colab_type": "code",
        "outputId": "9b466832-5de0-46d1-d083-7b7767adcac6",
        "colab": {
          "base_uri": "https://localhost:8080/",
          "height": 102
        }
      },
      "source": [
        "!ls -al \"/content/drive/My Drive/pima-indians-diabetes.csv\""
      ],
      "execution_count": 0,
      "outputs": [
        {
          "output_type": "stream",
          "text": [
            "total 25\n",
            "drwx------ 4 root root 4096 May 15 11:24 'Colab Notebooks'\n",
            "-rw------- 1 root root 7058 May 15 23:42  pima-indians-diabetes.csv\n",
            "drwx------ 2 root root 4096 May 15 11:38  test\n",
            "-rw------- 1 root root 9642 May 15 23:43  Untitled0.ipynb\n"
          ],
          "name": "stdout"
        }
      ]
    }
  ]
}