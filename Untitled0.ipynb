{
  "nbformat": 4,
  "nbformat_minor": 0,
  "metadata": {
    "colab": {
      "name": "Untitled0.ipynb",
      "provenance": [],
      "collapsed_sections": [],
      "toc_visible": true,
      "mount_file_id": "https://github.com/babsang24/SpineFinder/blob/master/Untitled0.ipynb",
      "authorship_tag": "ABX9TyPAJqLRuBZdy3NerYO4V8NZ",
      "include_colab_link": true
    },
    "kernelspec": {
      "name": "python3",
      "display_name": "Python 3"
    },
    "accelerator": "GPU"
  },
  "cells": [
    {
      "cell_type": "markdown",
      "metadata": {
        "id": "view-in-github",
        "colab_type": "text"
      },
      "source": [
        "<a href=\"https://colab.research.google.com/github/babsang24/SpineFinder/blob/master/Untitled0.ipynb\" target=\"_parent\"><img src=\"https://colab.research.google.com/assets/colab-badge.svg\" alt=\"Open In Colab\"/></a>"
      ]
    },
    {
      "cell_type": "code",
      "metadata": {
        "id": "M8kYblfSqW43",
        "colab_type": "code",
        "colab": {}
      },
      "source": [
        "# 파일 업로드\n",
        "from google.colab import files\n",
        "uploaded = files.upload()"
      ],
      "execution_count": 0,
      "outputs": []
    },
    {
      "cell_type": "code",
      "metadata": {
        "id": "keDxNR6WvDCt",
        "colab_type": "code",
        "colab": {}
      },
      "source": [
        "# 파일 다운로드\n",
        "import sys \n",
        "sys.version_info "
      ],
      "execution_count": 0,
      "outputs": []
    },
    {
      "cell_type": "markdown",
      "metadata": {
        "id": "X_aHJm_RxC2t",
        "colab_type": "text"
      },
      "source": [
        ""
      ]
    },
    {
      "cell_type": "code",
      "metadata": {
        "id": "hZI_29Mdtohk",
        "colab_type": "code",
        "outputId": "eb271851-2a65-4fe7-f0f4-f92b0bbab2cb",
        "colab": {
          "base_uri": "https://localhost:8080/",
          "height": 136
        }
      },
      "source": [
        "import numpy as np\n",
        "\n",
        "dataset = np.loadtxt(\"/content/drive/My Drive/pima-indians-diabetes.csv\", delimiter=\",\")\n",
        "\n",
        "print(dataset)"
      ],
      "execution_count": 0,
      "outputs": [
        {
          "output_type": "stream",
          "text": [
            "[[  6. 148.  72.   1.]\n",
            " [  1.  85.  66.   0.]\n",
            " [  8. 183.  64.   1.]\n",
            " ...\n",
            " [  1.  89.  24.   0.]\n",
            " [  1. 173.  74.   1.]\n",
            " [  1. 109.  38.   0.]]\n"
          ],
          "name": "stdout"
        }
      ]
    },
    {
      "cell_type": "code",
      "metadata": {
        "id": "Fu0OsGv3ugTj",
        "colab_type": "code",
        "colab": {}
      },
      "source": [
        "!ls -al \"/content/drive/My Drive/pima-indians-diabetes.csv\""
      ],
      "execution_count": 0,
      "outputs": []
    },
    {
      "cell_type": "code",
      "metadata": {
        "id": "t5sVUlY0w8VU",
        "colab_type": "code",
        "outputId": "0a446c9e-443f-42a0-80b4-11ea0c835bd8",
        "colab": {
          "base_uri": "https://localhost:8080/",
          "height": 86
        }
      },
      "source": [
        "!nvcc --version"
      ],
      "execution_count": 37,
      "outputs": [
        {
          "output_type": "stream",
          "text": [
            "nvcc: NVIDIA (R) Cuda compiler driver\n",
            "Copyright (c) 2005-2017 NVIDIA Corporation\n",
            "Built on Fri_Sep__1_21:08:03_CDT_2017\n",
            "Cuda compilation tools, release 9.0, V9.0.176\n"
          ],
          "name": "stdout"
        }
      ]
    },
    {
      "cell_type": "code",
      "metadata": {
        "id": "huoejFms0kFe",
        "colab_type": "code",
        "colab": {
          "base_uri": "https://localhost:8080/",
          "height": 610
        },
        "outputId": "b2abddf2-1563-43cd-bb75-ff8dc8f4c72e"
      },
      "source": [
        "!python /content/SpineFinder/train_detection_model.py '/content/SpineFinder/samples/detection/training' '/content/SpineFinder/samples/detection/testing' '/content/SpineFinder/saved_models/detection.h5'"
      ],
      "execution_count": 38,
      "outputs": [
        {
          "output_type": "stream",
          "text": [
            "Using TensorFlow backend.\n",
            "/usr/local/lib/python3.6/dist-packages/tensorflow/python/framework/dtypes.py:523: FutureWarning: Passing (type, 1) or '1type' as a synonym of type is deprecated; in a future version of numpy, it will be understood as (type, (1,)) / '(1,)type'.\n",
            "  _np_qint8 = np.dtype([(\"qint8\", np.int8, 1)])\n",
            "/usr/local/lib/python3.6/dist-packages/tensorflow/python/framework/dtypes.py:524: FutureWarning: Passing (type, 1) or '1type' as a synonym of type is deprecated; in a future version of numpy, it will be understood as (type, (1,)) / '(1,)type'.\n",
            "  _np_quint8 = np.dtype([(\"quint8\", np.uint8, 1)])\n",
            "/usr/local/lib/python3.6/dist-packages/tensorflow/python/framework/dtypes.py:525: FutureWarning: Passing (type, 1) or '1type' as a synonym of type is deprecated; in a future version of numpy, it will be understood as (type, (1,)) / '(1,)type'.\n",
            "  _np_qint16 = np.dtype([(\"qint16\", np.int16, 1)])\n",
            "/usr/local/lib/python3.6/dist-packages/tensorflow/python/framework/dtypes.py:526: FutureWarning: Passing (type, 1) or '1type' as a synonym of type is deprecated; in a future version of numpy, it will be understood as (type, (1,)) / '(1,)type'.\n",
            "  _np_quint16 = np.dtype([(\"quint16\", np.uint16, 1)])\n",
            "/usr/local/lib/python3.6/dist-packages/tensorflow/python/framework/dtypes.py:527: FutureWarning: Passing (type, 1) or '1type' as a synonym of type is deprecated; in a future version of numpy, it will be understood as (type, (1,)) / '(1,)type'.\n",
            "  _np_qint32 = np.dtype([(\"qint32\", np.int32, 1)])\n",
            "/usr/local/lib/python3.6/dist-packages/tensorflow/python/framework/dtypes.py:532: FutureWarning: Passing (type, 1) or '1type' as a synonym of type is deprecated; in a future version of numpy, it will be understood as (type, (1,)) / '(1,)type'.\n",
            "  np_resource = np.dtype([(\"resource\", np.ubyte, 1)])\n",
            "Traceback (most recent call last):\n",
            "  File \"/content/SpineFinder/train_detection_model.py\", line 3, in <module>\n",
            "    from learning_functions.perform_learning import perform_learning\n",
            "  File \"/content/SpineFinder/learning_functions/perform_learning.py\", line 2, in <module>\n",
            "    from learning_functions.data_generator import DataGenerator\n",
            "  File \"/content/SpineFinder/learning_functions/data_generator.py\", line 4, in <module>\n",
            "    import keras\n",
            "  File \"/usr/local/lib/python3.6/dist-packages/keras/__init__.py\", line 3, in <module>\n",
            "    from . import utils\n",
            "  File \"/usr/local/lib/python3.6/dist-packages/keras/utils/__init__.py\", line 6, in <module>\n",
            "    from . import conv_utils\n",
            "  File \"/usr/local/lib/python3.6/dist-packages/keras/utils/conv_utils.py\", line 9, in <module>\n",
            "    from .. import backend as K\n",
            "  File \"/usr/local/lib/python3.6/dist-packages/keras/backend/__init__.py\", line 1, in <module>\n",
            "    from .load_backend import epsilon\n",
            "  File \"/usr/local/lib/python3.6/dist-packages/keras/backend/load_backend.py\", line 90, in <module>\n",
            "    from .tensorflow_backend import *\n",
            "  File \"/usr/local/lib/python3.6/dist-packages/keras/backend/tensorflow_backend.py\", line 54, in <module>\n",
            "    get_graph = tf_keras_backend.get_graph\n",
            "AttributeError: module 'tensorflow.python.keras.backend' has no attribute 'get_graph'\n"
          ],
          "name": "stdout"
        }
      ]
    },
    {
      "cell_type": "code",
      "metadata": {
        "id": "Re0lgVZx-Xv6",
        "colab_type": "code",
        "colab": {}
      },
      "source": [
        "!git clone https://github.com/jfm15/SpineFinder.git"
      ],
      "execution_count": 0,
      "outputs": []
    },
    {
      "cell_type": "code",
      "metadata": {
        "id": "XDXOBKlCxjDP",
        "colab_type": "code",
        "colab": {}
      },
      "source": [
        "!unzip \"/content/drive/My Drive/spine-1.zip\" -d /content/SpineFinder/training_dataset"
      ],
      "execution_count": 0,
      "outputs": []
    },
    {
      "cell_type": "code",
      "metadata": {
        "id": "wu5lTaWJsO9q",
        "colab_type": "code",
        "colab": {}
      },
      "source": [
        "!unzip \"/content/drive/My Drive/spine-2.zip\" -d /content/SpineFinder/training_dataset"
      ],
      "execution_count": 0,
      "outputs": []
    },
    {
      "cell_type": "code",
      "metadata": {
        "id": "Jr_Om81RxlNU",
        "colab_type": "code",
        "colab": {}
      },
      "source": [
        "!unzip \"/content/drive/My Drive/spine-3.zip\" -d /content/SpineFinder/training_dataset"
      ],
      "execution_count": 0,
      "outputs": []
    },
    {
      "cell_type": "code",
      "metadata": {
        "id": "uaZY8I_Kxmo5",
        "colab_type": "code",
        "colab": {}
      },
      "source": [
        "!unzip \"/content/drive/My Drive/spine-4.zip\" -d /content/SpineFinder/training_dataset"
      ],
      "execution_count": 0,
      "outputs": []
    },
    {
      "cell_type": "code",
      "metadata": {
        "id": "y-Ii2kN9xnst",
        "colab_type": "code",
        "colab": {}
      },
      "source": [
        "!unzip \"/content/drive/My Drive/spine-5.zip\" -d /content/SpineFinder"
      ],
      "execution_count": 0,
      "outputs": []
    },
    {
      "cell_type": "code",
      "metadata": {
        "id": "Jo9QIoF3yT9G",
        "colab_type": "code",
        "colab": {}
      },
      "source": [
        "!mv -f /content/SpineFinder/spine-test-data /content/SpineFinder/testing_dataset"
      ],
      "execution_count": 0,
      "outputs": []
    },
    {
      "cell_type": "code",
      "metadata": {
        "id": "IVxu8TmMUTCO",
        "colab_type": "code",
        "colab": {}
      },
      "source": [
        ""
      ],
      "execution_count": 0,
      "outputs": []
    },
    {
      "cell_type": "code",
      "metadata": {
        "id": "HukznOq0Cmou",
        "colab_type": "code",
        "colab": {
          "base_uri": "https://localhost:8080/",
          "height": 208
        },
        "outputId": "2813009e-701d-44a9-ab73-f49b083db2b9"
      },
      "source": [
        "! pip install elasticdeform"
      ],
      "execution_count": 18,
      "outputs": [
        {
          "output_type": "stream",
          "text": [
            "Collecting elasticdeform\n",
            "  Downloading https://files.pythonhosted.org/packages/41/67/931371b1434b919537c43867ef45dae8af985a7331ae5b6d0e47bddfc875/elasticdeform-0.4.6.tar.gz\n",
            "Requirement already satisfied: numpy in /usr/local/lib/python3.6/dist-packages (from elasticdeform) (1.18.4)\n",
            "Requirement already satisfied: scipy in /usr/local/lib/python3.6/dist-packages (from elasticdeform) (1.4.1)\n",
            "Building wheels for collected packages: elasticdeform\n",
            "  Building wheel for elasticdeform (setup.py) ... \u001b[?25l\u001b[?25hdone\n",
            "  Created wheel for elasticdeform: filename=elasticdeform-0.4.6-cp36-cp36m-linux_x86_64.whl size=70429 sha256=4decab3bd2785888393f904a659d3c50004e0ab1cd7c23bf7b780b67de8f4357\n",
            "  Stored in directory: /root/.cache/pip/wheels/42/3a/94/a1d69f8b9da44826a171395e67f9f7a117f89af18f206481dd\n",
            "Successfully built elasticdeform\n",
            "Installing collected packages: elasticdeform\n",
            "Successfully installed elasticdeform-0.4.6\n"
          ],
          "name": "stdout"
        }
      ]
    },
    {
      "cell_type": "code",
      "metadata": {
        "id": "dVWzoYydz_IZ",
        "colab_type": "code",
        "colab": {}
      },
      "source": [
        "!python /content/SpineFinder/generate_detection_samples.py '/content/SpineFinder/training_dataset' '/content/SpineFinder/samples/detection/training'"
      ],
      "execution_count": 0,
      "outputs": []
    },
    {
      "cell_type": "code",
      "metadata": {
        "id": "lpOYxHkE0dSC",
        "colab_type": "code",
        "colab": {}
      },
      "source": [
        "!python /content/SpineFinder/generate_detection_samples.py '/content/SpineFinder/testing_dataset' '/content/SpineFinder/samples/detection/testing'"
      ],
      "execution_count": 0,
      "outputs": []
    }
  ]
}