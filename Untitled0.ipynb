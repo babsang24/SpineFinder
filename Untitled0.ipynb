{
  "nbformat": 4,
  "nbformat_minor": 0,
  "metadata": {
    "colab": {
      "name": "Untitled0.ipynb",
      "provenance": [],
      "collapsed_sections": [],
      "toc_visible": true,
      "mount_file_id": "https://github.com/babsang24/SpineFinder/blob/master/Untitled0.ipynb",
      "authorship_tag": "ABX9TyNCjXTRKrjQmLkIBxgZscdk",
      "include_colab_link": true
    },
    "kernelspec": {
      "name": "python3",
      "display_name": "Python 3"
    },
    "accelerator": "GPU"
  },
  "cells": [
    {
      "cell_type": "markdown",
      "metadata": {
        "id": "view-in-github",
        "colab_type": "text"
      },
      "source": [
        "<a href=\"https://colab.research.google.com/github/babsang24/SpineFinder/blob/master/Untitled0.ipynb\" target=\"_parent\"><img src=\"https://colab.research.google.com/assets/colab-badge.svg\" alt=\"Open In Colab\"/></a>"
      ]
    },
    {
      "cell_type": "code",
      "metadata": {
        "id": "M8kYblfSqW43",
        "colab_type": "code",
        "colab": {}
      },
      "source": [
        "# 파일 업로드\n",
        "from google.colab import files\n",
        "uploaded = files.upload()"
      ],
      "execution_count": 0,
      "outputs": []
    },
    {
      "cell_type": "code",
      "metadata": {
        "id": "keDxNR6WvDCt",
        "colab_type": "code",
        "colab": {}
      },
      "source": [
        "# 파일 다운로드\n",
        "import sys \n",
        "sys.version_info "
      ],
      "execution_count": 0,
      "outputs": []
    },
    {
      "cell_type": "code",
      "metadata": {
        "id": "hZI_29Mdtohk",
        "colab_type": "code",
        "colab": {}
      },
      "source": [
        "import numpy as np\n",
        "\n",
        "dataset = np.loadtxt(\"/content/drive/My Drive/pima-indians-diabetes.csv\", delimiter=\",\")\n",
        "\n",
        "print(dataset)"
      ],
      "execution_count": 0,
      "outputs": []
    },
    {
      "cell_type": "code",
      "metadata": {
        "id": "Fu0OsGv3ugTj",
        "colab_type": "code",
        "colab": {}
      },
      "source": [
        "!ls -al \"/content/drive/My Drive/pima-indians-diabetes.csv\""
      ],
      "execution_count": 0,
      "outputs": []
    },
    {
      "cell_type": "code",
      "metadata": {
        "id": "huoejFms0kFe",
        "colab_type": "code",
        "colab": {}
      },
      "source": [
        "!python /content/SpineFinder/train_detection_model.py '/content/SpineFinder/samples/detection/training' '/content/SpineFinder/samples/detection/testing' '/content/SpineFinder/saved_models/detection.h5'"
      ],
      "execution_count": 0,
      "outputs": []
    },
    {
      "cell_type": "code",
      "metadata": {
        "id": "Re0lgVZx-Xv6",
        "colab_type": "code",
        "colab": {}
      },
      "source": [
        "!git clone https://github.com/jfm15/SpineFinder.git"
      ],
      "execution_count": 0,
      "outputs": []
    },
    {
      "cell_type": "markdown",
      "metadata": {
        "id": "94Bdb21oVX4Y",
        "colab_type": "text"
      },
      "source": [
        "1. SpineFinder 다운\n",
        "2. 필요한 패키지 설치\n",
        "2-1. SimpleITK 은 pip로 설치 후 업그레이드 필요\n",
        "  pip install --upgrade --pre SimpleITK --find-links https://github.com/SimpleITK/SimpleITK/releases/tag/latest\n",
        "3. 압축 파일들 해제\n",
        "4. 코드 실행"
      ]
    },
    {
      "cell_type": "code",
      "metadata": {
        "id": "XDXOBKlCxjDP",
        "colab_type": "code",
        "colab": {}
      },
      "source": [
        "!unzip \"/content/drive/My Drive/spine-1.zip\" -d /content/SpineFinder/training_dataset"
      ],
      "execution_count": 0,
      "outputs": []
    },
    {
      "cell_type": "code",
      "metadata": {
        "id": "wu5lTaWJsO9q",
        "colab_type": "code",
        "colab": {}
      },
      "source": [
        "!unzip \"/content/drive/My Drive/spine-2.zip\" -d /content/SpineFinder/training_dataset"
      ],
      "execution_count": 0,
      "outputs": []
    },
    {
      "cell_type": "code",
      "metadata": {
        "id": "Jr_Om81RxlNU",
        "colab_type": "code",
        "colab": {}
      },
      "source": [
        "!unzip \"/content/drive/My Drive/spine-3.zip\" -d /content/SpineFinder/training_dataset"
      ],
      "execution_count": 0,
      "outputs": []
    },
    {
      "cell_type": "code",
      "metadata": {
        "id": "uaZY8I_Kxmo5",
        "colab_type": "code",
        "colab": {}
      },
      "source": [
        "!unzip \"/content/drive/My Drive/spine-4.zip\" -d /content/SpineFinder/training_dataset"
      ],
      "execution_count": 0,
      "outputs": []
    },
    {
      "cell_type": "code",
      "metadata": {
        "id": "y-Ii2kN9xnst",
        "colab_type": "code",
        "colab": {}
      },
      "source": [
        "!unzip \"/content/drive/My Drive/spine-5.zip\" -d /content/SpineFinder"
      ],
      "execution_count": 0,
      "outputs": []
    },
    {
      "cell_type": "code",
      "metadata": {
        "id": "Jo9QIoF3yT9G",
        "colab_type": "code",
        "colab": {}
      },
      "source": [
        "!mv /content/SpineFinder/spine-test-data /content/SpineFinder/testing_dataset"
      ],
      "execution_count": 0,
      "outputs": []
    },
    {
      "cell_type": "code",
      "metadata": {
        "id": "IVxu8TmMUTCO",
        "colab_type": "code",
        "colab": {}
      },
      "source": [
        ""
      ],
      "execution_count": 0,
      "outputs": []
    },
    {
      "cell_type": "code",
      "metadata": {
        "id": "HukznOq0Cmou",
        "colab_type": "code",
        "colab": {
          "base_uri": "https://localhost:8080/",
          "height": 208
        },
        "outputId": "2813009e-701d-44a9-ab73-f49b083db2b9"
      },
      "source": [
        "! pip install elasticdeform"
      ],
      "execution_count": 18,
      "outputs": [
        {
          "output_type": "stream",
          "text": [
            "Collecting elasticdeform\n",
            "  Downloading https://files.pythonhosted.org/packages/41/67/931371b1434b919537c43867ef45dae8af985a7331ae5b6d0e47bddfc875/elasticdeform-0.4.6.tar.gz\n",
            "Requirement already satisfied: numpy in /usr/local/lib/python3.6/dist-packages (from elasticdeform) (1.18.4)\n",
            "Requirement already satisfied: scipy in /usr/local/lib/python3.6/dist-packages (from elasticdeform) (1.4.1)\n",
            "Building wheels for collected packages: elasticdeform\n",
            "  Building wheel for elasticdeform (setup.py) ... \u001b[?25l\u001b[?25hdone\n",
            "  Created wheel for elasticdeform: filename=elasticdeform-0.4.6-cp36-cp36m-linux_x86_64.whl size=70429 sha256=4decab3bd2785888393f904a659d3c50004e0ab1cd7c23bf7b780b67de8f4357\n",
            "  Stored in directory: /root/.cache/pip/wheels/42/3a/94/a1d69f8b9da44826a171395e67f9f7a117f89af18f206481dd\n",
            "Successfully built elasticdeform\n",
            "Installing collected packages: elasticdeform\n",
            "Successfully installed elasticdeform-0.4.6\n"
          ],
          "name": "stdout"
        }
      ]
    },
    {
      "cell_type": "code",
      "metadata": {
        "id": "dVWzoYydz_IZ",
        "colab_type": "code",
        "colab": {}
      },
      "source": [
        "!python /content/SpineFinder/generate_detection_samples.py '/content/SpineFinder/training_dataset' '/content/SpineFinder/samples/detection/training'"
      ],
      "execution_count": 0,
      "outputs": []
    },
    {
      "cell_type": "code",
      "metadata": {
        "id": "lpOYxHkE0dSC",
        "colab_type": "code",
        "colab": {}
      },
      "source": [
        "!python /content/SpineFinder/generate_detection_samples.py '/content/SpineFinder/testing_dataset' '/content/SpineFinder/samples/detection/testing'"
      ],
      "execution_count": 0,
      "outputs": []
    }
  ]
}