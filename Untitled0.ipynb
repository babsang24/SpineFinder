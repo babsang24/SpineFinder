{
  "nbformat": 4,
  "nbformat_minor": 0,
  "metadata": {
    "colab": {
      "name": "Untitled0.ipynb",
      "provenance": [],
      "collapsed_sections": [],
      "toc_visible": true,
      "mount_file_id": "https://github.com/babsang24/SpineFinder/blob/master/Untitled0.ipynb",
      "authorship_tag": "ABX9TyP1zU0OE4M1y8l141bL8sKB",
      "include_colab_link": true
    },
    "kernelspec": {
      "name": "python3",
      "display_name": "Python 3"
    },
    "accelerator": "GPU"
  },
  "cells": [
    {
      "cell_type": "markdown",
      "metadata": {
        "id": "view-in-github",
        "colab_type": "text"
      },
      "source": [
        "<a href=\"https://colab.research.google.com/github/babsang24/SpineFinder/blob/master/Untitled0.ipynb\" target=\"_parent\"><img src=\"https://colab.research.google.com/assets/colab-badge.svg\" alt=\"Open In Colab\"/></a>"
      ]
    },
    {
      "cell_type": "code",
      "metadata": {
        "id": "M8kYblfSqW43",
        "colab_type": "code",
        "colab": {}
      },
      "source": [
        "import tensorflow as tf print(tf.__version__)\n",
        "\n",
        "출처: https://sikaleo.tistory.com/24 [SIKALEO]# 파일 업로드\n",
        "from google.colab import files\n",
        "uploaded = files.upload()"
      ],
      "execution_count": 0,
      "outputs": []
    },
    {
      "cell_type": "code",
      "metadata": {
        "id": "keDxNR6WvDCt",
        "colab_type": "code",
        "colab": {}
      },
      "source": [
        "# 파일 다운로드\n",
        "import sys \n",
        "sys.version_info "
      ],
      "execution_count": 0,
      "outputs": []
    },
    {
      "cell_type": "code",
      "metadata": {
        "id": "hZI_29Mdtohk",
        "colab_type": "code",
        "colab": {}
      },
      "source": [
        "import numpy as np\n",
        "\n",
        "dataset = np.loa성txt(\"/content/drive/My Drive/pima-indians-diabetes.csv\", delimiter=\",\")\n",
        "류\n",
        "print(dataset)"
      ],
      "execution_count": 0,
      "outputs": []
    },
    {
      "cell_type": "markdown",
      "metadata": {
        "id": "94Bdb21oVX4Y",
        "colab_type": "text"
      },
      "source": [
        "1. SpineFinder 다운\n",
        "2. 필요한 패키지 설치\n",
        "2-1. SimpleITK 은 pip로 설치 후 업그레이드 필요\n",
        "  pip install --upgrade --pre SimpleITK --find-links https://github.com/SimpleITK/SimpleITK/releases/tag/latest\n",
        "3. 필요한 디렉토리들 생성\n",
        "4. 압축 파일들 해제\n",
        "5. 코드 실행\n",
        "\n",
        "--------\n",
        "\n",
        "tensorflow 2.0일 때 오류\n",
        "\n",
        "File \"/usr/local/lib/python3.6/dist-packages/tensorflow/python/framework/\n",
        "tensor_util.py\", line 439, in make_tensor_protoraise ValueError(\"None values not supported.\")ValueError: None values not supported.\n",
        "\n",
        "tensorflow 1.12일 때 오류\n",
        "\n",
        "AttributeError: module 'tensorflow.python.keras.backend' has no attribute 'get_graph'\n",
        "\n",
        "\n",
        "----------------------\n",
        "* colab tensorflow 다운그레이드\n",
        "\n",
        "https://stackoverflow.com/questions/51888118/how-to-downgrade-tensorflow-version-in-colab/54445624 \n",
        "\n",
        "------------------\n",
        "* ubuntu 18.04 :: cuda 9.0 설치하기\n",
        "\n",
        "http://keepcalmswag.blogspot.com/2019/03/ubuntu-1804-cuda-90-cudnn-tensorflow_15.html\n"
      ]
    },
    {
      "cell_type": "code",
      "metadata": {
        "id": "vvGhVvG9Znpr",
        "colab_type": "code",
        "colab": {}
      },
      "source": [
        "!nvidia-smi"
      ],
      "execution_count": 0,
      "outputs": []
    },
    {
      "cell_type": "code",
      "metadata": {
        "id": "ZIIm0mIuswEs",
        "colab_type": "code",
        "colab": {}
      },
      "source": [
        "!nvcc --version"
      ],
      "execution_count": 0,
      "outputs": []
    },
    {
      "cell_type": "code",
      "metadata": {
        "id": "Re0lgVZx-Xv6",
        "colab_type": "code",
        "colab": {}
      },
      "source": [
        "!git clone https://github.com/jfm15/SpineFinder.git"
      ],
      "execution_count": 0,
      "outputs": []
    },
    {
      "cell_type": "code",
      "metadata": {
        "id": "XDXOBKlCxjDP",
        "colab_type": "code",
        "colab": {}
      },
      "source": [
        "!unzip \"/content/drive/My Drive/spine-1.zip\" -d /content/SpineFinder/training_dataset"
      ],
      "execution_count": 0,
      "outputs": []
    },
    {
      "cell_type": "code",
      "metadata": {
        "id": "wu5lTaWJsO9q",
        "colab_type": "code",
        "colab": {}
      },
      "source": [
        "!unzip \"/content/drive/My Drive/spine-2.zip\" -d /content/SpineFinder/training_dataset"
      ],
      "execution_count": 0,
      "outputs": []
    },
    {
      "cell_type": "code",
      "metadata": {
        "id": "Jr_Om81RxlNU",
        "colab_type": "code",
        "colab": {}
      },
      "source": [
        "!unzip \"/content/drive/My Drive/spine-3.zip\" -d /content/SpineFinder/training_dataset"
      ],
      "execution_count": 0,
      "outputs": []
    },
    {
      "cell_type": "code",
      "metadata": {
        "id": "uaZY8I_Kxmo5",
        "colab_type": "code",
        "colab": {}
      },
      "source": [
        "!unzip \"/content/drive/My Drive/spine-4.zip\" -d /content/SpineFinder/training_dataset"
      ],
      "execution_count": 0,
      "outputs": []
    },
    {
      "cell_type": "code",
      "metadata": {
        "id": "y-Ii2kN9xnst",
        "colab_type": "code",
        "colab": {}
      },
      "source": [
        "!unzip \"/content/drive/My Drive/spine-5.zip\" -d /content/SpineFinder/training_dataset"
      ],
      "execution_count": 0,
      "outputs": []
    },
    {
      "cell_type": "code",
      "metadata": {
        "id": "484JfGEzKVMd",
        "colab_type": "code",
        "colab": {}
      },
      "source": [
        "!unzip \"/content/drive/My Drive/spine-test-data.zip\" -d /content/SpineFinder/"
      ],
      "execution_count": 0,
      "outputs": []
    },
    {
      "cell_type": "code",
      "metadata": {
        "id": "Jo9QIoF3yT9G",
        "colab_type": "code",
        "colab": {}
      },
      "source": [
        "!mv /content/SpineFinder/spine-test-data/* /content/SpineFinder/testing_dataset"
      ],
      "execution_count": 0,
      "outputs": []
    },
    {
      "cell_type": "code",
      "metadata": {
        "id": "37_xbkOaQCjA",
        "colab_type": "code",
        "colab": {
          "base_uri": "https://localhost:8080/",
          "height": 156
        },
        "outputId": "0841384f-bc5e-4e29-f363-dbc94e703618"
      },
      "source": [
        "!pip install keras"
      ],
      "execution_count": 32,
      "outputs": [
        {
          "output_type": "stream",
          "text": [
            "Requirement already satisfied: keras in /usr/local/lib/python3.6/dist-packages (2.3.1)\n",
            "Requirement already satisfied: h5py in /usr/local/lib/python3.6/dist-packages (from keras) (2.10.0)\n",
            "Requirement already satisfied: pyyaml in /usr/local/lib/python3.6/dist-packages (from keras) (3.13)\n",
            "Requirement already satisfied: six>=1.9.0 in /usr/local/lib/python3.6/dist-packages (from keras) (1.12.0)\n",
            "Requirement already satisfied: numpy>=1.9.1 in /usr/local/lib/python3.6/dist-packages (from keras) (1.18.4)\n",
            "Requirement already satisfied: keras-applications>=1.0.6 in /usr/local/lib/python3.6/dist-packages (from keras) (1.0.8)\n",
            "Requirement already satisfied: keras-preprocessing>=1.0.5 in /usr/local/lib/python3.6/dist-packages (from keras) (1.1.0)\n",
            "Requirement already satisfied: scipy>=0.14 in /usr/local/lib/python3.6/dist-packages (from keras) (1.4.1)\n"
          ],
          "name": "stdout"
        }
      ]
    },
    {
      "cell_type": "code",
      "metadata": {
        "id": "-E-e7zSVRORu",
        "colab_type": "code",
        "colab": {
          "base_uri": "https://localhost:8080/",
          "height": 139
        },
        "outputId": "5b9efbca-654b-4641-ced3-1cba1d87cc5c"
      },
      "source": [
        "!pip install matplotlib"
      ],
      "execution_count": 33,
      "outputs": [
        {
          "output_type": "stream",
          "text": [
            "Requirement already satisfied: matplotlib in /usr/local/lib/python3.6/dist-packages (3.2.1)\n",
            "Requirement already satisfied: python-dateutil>=2.1 in /usr/local/lib/python3.6/dist-packages (from matplotlib) (2.8.1)\n",
            "Requirement already satisfied: kiwisolver>=1.0.1 in /usr/local/lib/python3.6/dist-packages (from matplotlib) (1.2.0)\n",
            "Requirement already satisfied: numpy>=1.11 in /usr/local/lib/python3.6/dist-packages (from matplotlib) (1.18.4)\n",
            "Requirement already satisfied: cycler>=0.10 in /usr/local/lib/python3.6/dist-packages (from matplotlib) (0.10.0)\n",
            "Requirement already satisfied: pyparsing!=2.0.4,!=2.1.2,!=2.1.6,>=2.0.1 in /usr/local/lib/python3.6/dist-packages (from matplotlib) (2.4.7)\n",
            "Requirement already satisfied: six>=1.5 in /usr/local/lib/python3.6/dist-packages (from python-dateutil>=2.1->matplotlib) (1.12.0)\n"
          ],
          "name": "stdout"
        }
      ]
    },
    {
      "cell_type": "code",
      "metadata": {
        "id": "8cgVorP0RRr4",
        "colab_type": "code",
        "colab": {
          "base_uri": "https://localhost:8080/",
          "height": 104
        },
        "outputId": "34848f05-328e-457a-c502-540d2cd0ab84"
      },
      "source": [
        "!pip install SimpleITK"
      ],
      "execution_count": 34,
      "outputs": [
        {
          "output_type": "stream",
          "text": [
            "Collecting SimpleITK\n",
            "\u001b[?25l  Downloading https://files.pythonhosted.org/packages/f8/d8/53338c34f71020725ffb3557846c80af96c29c03bc883551a2565aa68a7c/SimpleITK-1.2.4-cp36-cp36m-manylinux1_x86_64.whl (42.5MB)\n",
            "\u001b[K     |████████████████████████████████| 42.5MB 80kB/s \n",
            "\u001b[?25hInstalling collected packages: SimpleITK\n",
            "Successfully installed SimpleITK-1.2.4\n"
          ],
          "name": "stdout"
        }
      ]
    },
    {
      "cell_type": "code",
      "metadata": {
        "id": "HTX9wYHQRVZG",
        "colab_type": "code",
        "colab": {
          "base_uri": "https://localhost:8080/",
          "height": 173
        },
        "outputId": "a08cd39e-e623-46b7-d3a4-d636c37ccb21"
      },
      "source": [
        "!pip install --upgrade --pre SimpleITK --find-links https://github.com/SimpleITK/SimpleITK/releases/tag/latest"
      ],
      "execution_count": 35,
      "outputs": [
        {
          "output_type": "stream",
          "text": [
            "Looking in links: https://github.com/SimpleITK/SimpleITK/releases/tag/latest\n",
            "Collecting SimpleITK\n",
            "\u001b[?25l  Downloading https://github.com/SimpleITK/SimpleITK/releases/download/latest/SimpleITK-2.0.0rc1.post224-cp36-cp36m-manylinux1_x86_64.whl (44.4MB)\n",
            "\u001b[K     |████████████████████████████████| 44.4MB 72kB/s \n",
            "\u001b[?25hInstalling collected packages: SimpleITK\n",
            "  Found existing installation: SimpleITK 1.2.4\n",
            "    Uninstalling SimpleITK-1.2.4:\n",
            "      Successfully uninstalled SimpleITK-1.2.4\n",
            "Successfully installed SimpleITK-2.0.0rc1.post224\n"
          ],
          "name": "stdout"
        }
      ]
    },
    {
      "cell_type": "code",
      "metadata": {
        "id": "lpDwm-E7RbAl",
        "colab_type": "code",
        "colab": {
          "base_uri": "https://localhost:8080/",
          "height": 34
        },
        "outputId": "885f9a32-02ff-4194-9368-1c4851b21189"
      },
      "source": [
        "!pip install pip"
      ],
      "execution_count": 36,
      "outputs": [
        {
          "output_type": "stream",
          "text": [
            "Requirement already satisfied: pip in /usr/local/lib/python3.6/dist-packages (19.3.1)\n"
          ],
          "name": "stdout"
        }
      ]
    },
    {
      "cell_type": "code",
      "metadata": {
        "id": "APY9pA89Rct7",
        "colab_type": "code",
        "colab": {
          "base_uri": "https://localhost:8080/",
          "height": 225
        },
        "outputId": "339e310c-b1df-4169-f53f-031fbe059c4d"
      },
      "source": [
        "!pip install keras-metrics"
      ],
      "execution_count": 37,
      "outputs": [
        {
          "output_type": "stream",
          "text": [
            "Collecting keras-metrics\n",
            "  Downloading https://files.pythonhosted.org/packages/32/c9/a87420da8e73de944e63a8e9cdcfb1f03ca31a7c4cdcdbd45d2cdf13275a/keras_metrics-1.1.0-py2.py3-none-any.whl\n",
            "Requirement already satisfied: Keras>=2.1.5 in /usr/local/lib/python3.6/dist-packages (from keras-metrics) (2.3.1)\n",
            "Requirement already satisfied: keras-applications>=1.0.6 in /usr/local/lib/python3.6/dist-packages (from Keras>=2.1.5->keras-metrics) (1.0.8)\n",
            "Requirement already satisfied: scipy>=0.14 in /usr/local/lib/python3.6/dist-packages (from Keras>=2.1.5->keras-metrics) (1.4.1)\n",
            "Requirement already satisfied: keras-preprocessing>=1.0.5 in /usr/local/lib/python3.6/dist-packages (from Keras>=2.1.5->keras-metrics) (1.1.0)\n",
            "Requirement already satisfied: numpy>=1.9.1 in /usr/local/lib/python3.6/dist-packages (from Keras>=2.1.5->keras-metrics) (1.18.4)\n",
            "Requirement already satisfied: six>=1.9.0 in /usr/local/lib/python3.6/dist-packages (from Keras>=2.1.5->keras-metrics) (1.12.0)\n",
            "Requirement already satisfied: pyyaml in /usr/local/lib/python3.6/dist-packages (from Keras>=2.1.5->keras-metrics) (3.13)\n",
            "Requirement already satisfied: h5py in /usr/local/lib/python3.6/dist-packages (from Keras>=2.1.5->keras-metrics) (2.10.0)\n",
            "Installing collected packages: keras-metrics\n",
            "Successfully installed keras-metrics-1.1.0\n"
          ],
          "name": "stdout"
        }
      ]
    },
    {
      "cell_type": "code",
      "metadata": {
        "id": "36FuriAQReQQ",
        "colab_type": "code",
        "colab": {
          "base_uri": "https://localhost:8080/",
          "height": 208
        },
        "outputId": "126c4bf0-a5cc-4695-d60f-2660d66e2413"
      },
      "source": [
        "!pip install elasticdeform"
      ],
      "execution_count": 38,
      "outputs": [
        {
          "output_type": "stream",
          "text": [
            "Collecting elasticdeform\n",
            "  Downloading https://files.pythonhosted.org/packages/41/67/931371b1434b919537c43867ef45dae8af985a7331ae5b6d0e47bddfc875/elasticdeform-0.4.6.tar.gz\n",
            "Requirement already satisfied: numpy in /usr/local/lib/python3.6/dist-packages (from elasticdeform) (1.18.4)\n",
            "Requirement already satisfied: scipy in /usr/local/lib/python3.6/dist-packages (from elasticdeform) (1.4.1)\n",
            "Building wheels for collected packages: elasticdeform\n",
            "  Building wheel for elasticdeform (setup.py) ... \u001b[?25l\u001b[?25hdone\n",
            "  Created wheel for elasticdeform: filename=elasticdeform-0.4.6-cp36-cp36m-linux_x86_64.whl size=70432 sha256=5f11eb4e49315c3b5b1804c3254a256a4892d5b947110f7fd3835caed4148491\n",
            "  Stored in directory: /root/.cache/pip/wheels/42/3a/94/a1d69f8b9da44826a171395e67f9f7a117f89af18f206481dd\n",
            "Successfully built elasticdeform\n",
            "Installing collected packages: elasticdeform\n",
            "Successfully installed elasticdeform-0.4.6\n"
          ],
          "name": "stdout"
        }
      ]
    },
    {
      "cell_type": "code",
      "metadata": {
        "id": "dVWzoYydz_IZ",
        "colab_type": "code",
        "colab": {}
      },
      "source": [
        "!python /content/SpineFinder/generate_detection_samples.py '/content/SpineFinder/training_dataset' '/content/SpineFinder/samples/detection/training'"
      ],
      "execution_count": 0,
      "outputs": []
    },
    {
      "cell_type": "code",
      "metadata": {
        "id": "lpOYxHkE0dSC",
        "colab_type": "code",
        "colab": {}
      },
      "source": [
        "!python /content/SpineFinder/generate_detection_samples.py '/content/SpineFinder/testing_dataset' '/content/SpineFinder/samples/detection/testing'"
      ],
      "execution_count": 0,
      "outputs": []
    },
    {
      "cell_type": "code",
      "metadata": {
        "id": "huoejFms0kFe",
        "colab_type": "code",
        "outputId": "c5e020d0-5cd1-4e45-ff0a-efe7c685c219",
        "colab": {
          "base_uri": "https://localhost:8080/",
          "height": 332
        }
      },
      "source": [
        "!python /content/SpineFinder/train_detection_model.py '/content/SpineFinder/samples/detection/training' '/content/SpineFinder/samples/detection/testing' '/content/SpineFinder/saved_models/detection.h5'"
      ],
      "execution_count": 60,
      "outputs": [
        {
          "output_type": "stream",
          "text": [
            "Using TensorFlow backend.\n",
            "/usr/local/lib/python3.6/dist-packages/tensorflow/python/framework/dtypes.py:523: FutureWarning: Passing (type, 1) or '1type' as a synonym of type is deprecated; in a future version of numpy, it will be understood as (type, (1,)) / '(1,)type'.\n",
            "  _np_qint8 = np.dtype([(\"qint8\", np.int8, 1)])\n",
            "/usr/local/lib/python3.6/dist-packages/tensorflow/python/framework/dtypes.py:524: FutureWarning: Passing (type, 1) or '1type' as a synonym of type is deprecated; in a future version of numpy, it will be understood as (type, (1,)) / '(1,)type'.\n",
            "  _np_quint8 = np.dtype([(\"quint8\", np.uint8, 1)])\n",
            "/usr/local/lib/python3.6/dist-packages/tensorflow/python/framework/dtypes.py:525: FutureWarning: Passing (type, 1) or '1type' as a synonym of type is deprecated; in a future version of numpy, it will be understood as (type, (1,)) / '(1,)type'.\n",
            "  _np_qint16 = np.dtype([(\"qint16\", np.int16, 1)])\n",
            "/usr/local/lib/python3.6/dist-packages/tensorflow/python/framework/dtypes.py:526: FutureWarning: Passing (type, 1) or '1type' as a synonym of type is deprecated; in a future version of numpy, it will be understood as (type, (1,)) / '(1,)type'.\n",
            "  _np_quint16 = np.dtype([(\"quint16\", np.uint16, 1)])\n",
            "/usr/local/lib/python3.6/dist-packages/tensorflow/python/framework/dtypes.py:527: FutureWarning: Passing (type, 1) or '1type' as a synonym of type is deprecated; in a future version of numpy, it will be understood as (type, (1,)) / '(1,)type'.\n",
            "  _np_qint32 = np.dtype([(\"qint32\", np.int32, 1)])\n",
            "/usr/local/lib/python3.6/dist-packages/tensorflow/python/framework/dtypes.py:532: FutureWarning: Passing (type, 1) or '1type' as a synonym of type is deprecated; in a future version of numpy, it will be understood as (type, (1,)) / '(1,)type'.\n",
            "  np_resource = np.dtype([(\"resource\", np.ubyte, 1)])\n",
            "2020-05-17 09:37:20.334650: I tensorflow/core/platform/cpu_feature_guard.cc:141] Your CPU supports instructions that this TensorFlow binary was not compiled to use: AVX2 FMA\n",
            "Epoch 1/50\n",
            "tcmalloc: large alloc 13421887488 bytes == 0xdcf78000 @  0x7f755e37d1e7 0x7f75488b09a5 0x7f754b202c89 0x7f754b20dfa5 0x7f754b21f723 0x7f7546347b26 0x7f754633b250 0x7f75463b752a 0x7f75463b6582 0x7f755cc5fa50 0x7f755dd416db 0x7f755e07a88f\n",
            "^C\n"
          ],
          "name": "stdout"
        }
      ]
    },
    {
      "cell_type": "code",
      "metadata": {
        "id": "MfIDaK9rdDwg",
        "colab_type": "code",
        "outputId": "64368935-7455-4c34-e7ea-b351b2a6a3fe",
        "colab": {
          "base_uri": "https://localhost:8080/",
          "height": 191
        }
      },
      "source": [
        "!pip show keras"
      ],
      "execution_count": 46,
      "outputs": [
        {
          "output_type": "stream",
          "text": [
            "Name: Keras\n",
            "Version: 2.3.1\n",
            "Summary: Deep Learning for humans\n",
            "Home-page: https://github.com/keras-team/keras\n",
            "Author: Francois Chollet\n",
            "Author-email: francois.chollet@gmail.com\n",
            "License: MIT\n",
            "Location: /usr/local/lib/python3.6/dist-packages\n",
            "Requires: numpy, keras-applications, scipy, keras-preprocessing, six, pyyaml, h5py\n",
            "Required-by: textgenrnn, keras-vis, keras-metrics, kapre, fancyimpute\n"
          ],
          "name": "stdout"
        }
      ]
    },
    {
      "cell_type": "code",
      "metadata": {
        "id": "FHFw5B95vJsA",
        "colab_type": "code",
        "colab": {
          "base_uri": "https://localhost:8080/",
          "height": 364
        },
        "outputId": "038e505f-340f-4fb7-850c-424ef77177ef"
      },
      "source": [
        "!pip install tensorflow==1.12.0"
      ],
      "execution_count": 43,
      "outputs": [
        {
          "output_type": "stream",
          "text": [
            "Collecting tensorflow==1.12.0\n",
            "  Using cached https://files.pythonhosted.org/packages/22/cc/ca70b78087015d21c5f3f93694107f34ebccb3be9624385a911d4b52ecef/tensorflow-1.12.0-cp36-cp36m-manylinux1_x86_64.whl\n",
            "Requirement already satisfied: astor>=0.6.0 in /usr/local/lib/python3.6/dist-packages (from tensorflow==1.12.0) (0.8.1)\n",
            "Requirement already satisfied: absl-py>=0.1.6 in /usr/local/lib/python3.6/dist-packages (from tensorflow==1.12.0) (0.9.0)\n",
            "Requirement already satisfied: keras-applications>=1.0.6 in /usr/local/lib/python3.6/dist-packages (from tensorflow==1.12.0) (1.0.8)\n",
            "Requirement already satisfied: tensorboard<1.13.0,>=1.12.0 in /usr/local/lib/python3.6/dist-packages (from tensorflow==1.12.0) (1.12.2)\n",
            "Requirement already satisfied: keras-preprocessing>=1.0.5 in /usr/local/lib/python3.6/dist-packages (from tensorflow==1.12.0) (1.1.0)\n",
            "Requirement already satisfied: wheel>=0.26 in /usr/local/lib/python3.6/dist-packages (from tensorflow==1.12.0) (0.34.2)\n",
            "Requirement already satisfied: gast>=0.2.0 in /usr/local/lib/python3.6/dist-packages (from tensorflow==1.12.0) (0.3.3)\n",
            "Requirement already satisfied: numpy>=1.13.3 in /usr/local/lib/python3.6/dist-packages (from tensorflow==1.12.0) (1.18.4)\n",
            "Requirement already satisfied: protobuf>=3.6.1 in /usr/local/lib/python3.6/dist-packages (from tensorflow==1.12.0) (3.10.0)\n",
            "Requirement already satisfied: termcolor>=1.1.0 in /usr/local/lib/python3.6/dist-packages (from tensorflow==1.12.0) (1.1.0)\n",
            "Requirement already satisfied: grpcio>=1.8.6 in /usr/local/lib/python3.6/dist-packages (from tensorflow==1.12.0) (1.28.1)\n",
            "Requirement already satisfied: six>=1.10.0 in /usr/local/lib/python3.6/dist-packages (from tensorflow==1.12.0) (1.12.0)\n",
            "Requirement already satisfied: h5py in /usr/local/lib/python3.6/dist-packages (from keras-applications>=1.0.6->tensorflow==1.12.0) (2.10.0)\n",
            "Requirement already satisfied: markdown>=2.6.8 in /usr/local/lib/python3.6/dist-packages (from tensorboard<1.13.0,>=1.12.0->tensorflow==1.12.0) (3.2.1)\n",
            "Requirement already satisfied: werkzeug>=0.11.10 in /usr/local/lib/python3.6/dist-packages (from tensorboard<1.13.0,>=1.12.0->tensorflow==1.12.0) (1.0.1)\n",
            "Requirement already satisfied: setuptools in /usr/local/lib/python3.6/dist-packages (from protobuf>=3.6.1->tensorflow==1.12.0) (46.3.0)\n",
            "Installing collected packages: tensorflow\n",
            "Successfully installed tensorflow-1.12.0\n"
          ],
          "name": "stdout"
        }
      ]
    },
    {
      "cell_type": "code",
      "metadata": {
        "id": "t8z-8ymT9LFr",
        "colab_type": "code",
        "colab": {
          "base_uri": "https://localhost:8080/",
          "height": 542
        },
        "outputId": "9f7a158e-5784-4634-9716-9153c0c8df52"
      },
      "source": [
        "!pip install keras==2.2.0"
      ],
      "execution_count": 58,
      "outputs": [
        {
          "output_type": "stream",
          "text": [
            "Collecting keras==2.2.0\n",
            "\u001b[?25l  Downloading https://files.pythonhosted.org/packages/68/12/4cabc5c01451eb3b413d19ea151f36e33026fc0efb932bf51bcaf54acbf5/Keras-2.2.0-py2.py3-none-any.whl (300kB)\n",
            "\r\u001b[K     |█                               | 10kB 17.6MB/s eta 0:00:01\r\u001b[K     |██▏                             | 20kB 1.8MB/s eta 0:00:01\r\u001b[K     |███▎                            | 30kB 2.3MB/s eta 0:00:01\r\u001b[K     |████▍                           | 40kB 2.5MB/s eta 0:00:01\r\u001b[K     |█████▌                          | 51kB 2.0MB/s eta 0:00:01\r\u001b[K     |██████▌                         | 61kB 2.3MB/s eta 0:00:01\r\u001b[K     |███████▋                        | 71kB 2.6MB/s eta 0:00:01\r\u001b[K     |████████▊                       | 81kB 2.8MB/s eta 0:00:01\r\u001b[K     |█████████▉                      | 92kB 2.9MB/s eta 0:00:01\r\u001b[K     |███████████                     | 102kB 2.8MB/s eta 0:00:01\r\u001b[K     |████████████                    | 112kB 2.8MB/s eta 0:00:01\r\u001b[K     |█████████████                   | 122kB 2.8MB/s eta 0:00:01\r\u001b[K     |██████████████▏                 | 133kB 2.8MB/s eta 0:00:01\r\u001b[K     |███████████████▎                | 143kB 2.8MB/s eta 0:00:01\r\u001b[K     |████████████████▍               | 153kB 2.8MB/s eta 0:00:01\r\u001b[K     |█████████████████▍              | 163kB 2.8MB/s eta 0:00:01\r\u001b[K     |██████████████████▌             | 174kB 2.8MB/s eta 0:00:01\r\u001b[K     |███████████████████▋            | 184kB 2.8MB/s eta 0:00:01\r\u001b[K     |████████████████████▊           | 194kB 2.8MB/s eta 0:00:01\r\u001b[K     |█████████████████████▉          | 204kB 2.8MB/s eta 0:00:01\r\u001b[K     |██████████████████████▉         | 215kB 2.8MB/s eta 0:00:01\r\u001b[K     |████████████████████████        | 225kB 2.8MB/s eta 0:00:01\r\u001b[K     |█████████████████████████       | 235kB 2.8MB/s eta 0:00:01\r\u001b[K     |██████████████████████████▏     | 245kB 2.8MB/s eta 0:00:01\r\u001b[K     |███████████████████████████▎    | 256kB 2.8MB/s eta 0:00:01\r\u001b[K     |████████████████████████████▎   | 266kB 2.8MB/s eta 0:00:01\r\u001b[K     |█████████████████████████████▍  | 276kB 2.8MB/s eta 0:00:01\r\u001b[K     |██████████████████████████████▌ | 286kB 2.8MB/s eta 0:00:01\r\u001b[K     |███████████████████████████████▋| 296kB 2.8MB/s eta 0:00:01\r\u001b[K     |████████████████████████████████| 307kB 2.8MB/s \n",
            "\u001b[?25hRequirement already satisfied: scipy>=0.14 in /usr/local/lib/python3.6/dist-packages (from keras==2.2.0) (1.4.1)\n",
            "Requirement already satisfied: pyyaml in /usr/local/lib/python3.6/dist-packages (from keras==2.2.0) (3.13)\n",
            "Collecting keras-preprocessing==1.0.1\n",
            "  Downloading https://files.pythonhosted.org/packages/f8/33/275506afe1d96b221f66f95adba94d1b73f6b6087cfb6132a5655b6fe338/Keras_Preprocessing-1.0.1-py2.py3-none-any.whl\n",
            "Requirement already satisfied: six>=1.9.0 in /usr/local/lib/python3.6/dist-packages (from keras==2.2.0) (1.12.0)\n",
            "Requirement already satisfied: h5py in /usr/local/lib/python3.6/dist-packages (from keras==2.2.0) (2.10.0)\n",
            "Collecting keras-applications==1.0.2\n",
            "\u001b[?25l  Downloading https://files.pythonhosted.org/packages/e2/60/c557075e586e968d7a9c314aa38c236b37cb3ee6b37e8d57152b1a5e0b47/Keras_Applications-1.0.2-py2.py3-none-any.whl (43kB)\n",
            "\u001b[K     |████████████████████████████████| 51kB 5.2MB/s \n",
            "\u001b[?25hRequirement already satisfied: numpy>=1.9.1 in /usr/local/lib/python3.6/dist-packages (from keras==2.2.0) (1.18.4)\n",
            "\u001b[31mERROR: tensorflow 1.12.0 has requirement keras-applications>=1.0.6, but you'll have keras-applications 1.0.2 which is incompatible.\u001b[0m\n",
            "\u001b[31mERROR: tensorflow 1.12.0 has requirement keras-preprocessing>=1.0.5, but you'll have keras-preprocessing 1.0.1 which is incompatible.\u001b[0m\n",
            "\u001b[31mERROR: tensorflow-gpu 1.12.0 has requirement keras-applications>=1.0.6, but you'll have keras-applications 1.0.2 which is incompatible.\u001b[0m\n",
            "\u001b[31mERROR: tensorflow-gpu 1.12.0 has requirement keras-preprocessing>=1.0.5, but you'll have keras-preprocessing 1.0.1 which is incompatible.\u001b[0m\n",
            "Installing collected packages: keras-preprocessing, keras-applications, keras\n",
            "  Found existing installation: Keras-Preprocessing 1.1.0\n",
            "    Uninstalling Keras-Preprocessing-1.1.0:\n",
            "      Successfully uninstalled Keras-Preprocessing-1.1.0\n",
            "  Found existing installation: Keras-Applications 1.0.8\n",
            "    Uninstalling Keras-Applications-1.0.8:\n",
            "      Successfully uninstalled Keras-Applications-1.0.8\n",
            "Successfully installed keras-2.2.0 keras-applications-1.0.2 keras-preprocessing-1.0.1\n"
          ],
          "name": "stdout"
        },
        {
          "output_type": "display_data",
          "data": {
            "application/vnd.colab-display-data+json": {
              "pip_warning": {
                "packages": [
                  "keras_applications",
                  "keras_preprocessing"
                ]
              }
            }
          },
          "metadata": {
            "tags": []
          }
        }
      ]
    }
  ]
}